{
 "cells": [
  {
   "cell_type": "markdown",
   "metadata": {},
   "source": [
    "알고리즘 특강 (1일차)\n",
    "\n",
    "- 자료구조 : 요리의 재료 + 재료를 다듬는 법(알고리즘)\n",
    "- 알고리즘 : 요리법\n",
    "\n",
    "- 알고리즘 특강별 일정\n",
    "1일차 : 이론\n",
    "2일차 : 이론  + 실습 (엄청 빠른 실습, 일정 때문)\n",
    "5일: 이론 + 여유 있는 실습 + 추가 고급 내용\n",
    "\n",
    "- 미니 특강\n",
    "오늘 오후: 현업 알고리즘 테스트 문제 (20분)\n",
    "내일 오후: 자격증 ====> 취업 전략(개인의견)\n",
    "\n",
    "- IT 전문가: 도메인지식 + 4차산업 기술 + (코딩 실력)\n",
    "- 코딩을 잘하게 됨 --> 초급 프로그래머 --> 중/고급 프로그래머 (자료구조/알고리즘)\n",
    "- 모든 S/W에는 자료구조/알고리즘의 개념 유. --> S/W를 더 잘 사용함 --> 자기 분야의 전문가\n",
    "\n",
    "자료구조의 종류\n",
    "- (단순 자료구조)\n",
    "- 선형 자료구조\n",
    "    리스트 / 스택 / 큐\n",
    "- 비선형 자료구조\n",
    "    트리 / 그래프\n",
    "- (파일 자료구조)\n",
    "\n",
    "\n",
    "리스트(List) ===> 파이썬(x) ===> 파이썬의 리스트는 배열(Array)\n",
    "선형리스트는 빈틈이 없다.\n"
   ]
  },
  {
   "cell_type": "code",
   "execution_count": 4,
   "metadata": {},
   "outputs": [
    {
     "name": "stdout",
     "output_type": "stream",
     "text": [
      "['다현', '정연', '쯔위', '사나', '지효', '모모']\n",
      "['다현', '정연', '쯔위', '미나', '사나', '지효', '모모']\n",
      "['다현', '정연', '쯔위', '미나', '지효', '모모']\n"
     ]
    }
   ],
   "source": [
    "## 함수 선언부\n",
    "\n",
    "\n",
    "## 전역 변수부\n",
    "katok = ['다현', '정연', '쯔위', '사나', '지효']\n",
    "\n",
    "## 메인 코드부\n",
    "\n",
    "#$ 데이터 추가 (모모에게 1회 카톡)\n",
    "# 1단계 : 빈칸 추가\n",
    "katok.append(None)\n",
    "# 2단계 : 마지막 칸에 새 친구 입력\n",
    "katok[5] = '모모'\n",
    "print(katok)\n",
    "\n",
    "#$ 데이터 삽입 (미나에게 연속 40회 카톡이 옴 == 미나를 3등으로 만들기)\n",
    "# 1단계: 빈칸 추가\n",
    "katok.append(None)\n",
    "# 2단계: 한칸씩 뒤로 이동(마지막 친구부터 빈칸으로 이동 ... 3등까지)\n",
    "katok[6] = katok[5]\n",
    "katok[5] = None\n",
    "katok[5] = katok[4]\n",
    "katok[4] = None\n",
    "katok[4] = katok[3]\n",
    "katok[3] = None  #빈자리는 None으로 할당되지 않음 표시\n",
    "# 3단계 : 3등자리에 미나 입력\n",
    "katok[3] = '미나'\n",
    "\n",
    "print(katok)\n",
    "\n",
    "\n",
    "#$ 데이터 삭제 (사나가 카톡 차단 == 4등을 삭제)\n",
    "#1단계 : 데이터 지우기\n",
    "katok[4] = None\n",
    "\n",
    "#2단계 : 한칸씩 앞으로 이동(지운 다음부터... 마지막 까지)\n",
    "katok[4] = katok[5] # 지효\n",
    "katok[5] = None\n",
    "katok[5] = katok[6] # 모모\n",
    "katok[6] = None\n",
    "\n",
    "#3단계 : 마지막 칸 제거\n",
    "del(katok[6])\n",
    "print(katok)\n",
    "\n"
   ]
  },
  {
   "cell_type": "code",
   "execution_count": 22,
   "metadata": {},
   "outputs": [
    {
     "name": "stdout",
     "output_type": "stream",
     "text": [
      "['다현', '정연', '쯔위', '사나', '지효']\n",
      "['다현', '정연', '쯔위', '사나', '지효', '모모']\n",
      "['다현', '정연', '쯔위', '미나', '사나', '지효', '모모']\n",
      "['다현', '정연', '쯔위', '미나', '지효', '모모']\n"
     ]
    }
   ],
   "source": [
    "## 함수\n",
    "def add_data(friend) :\n",
    "    # 1단계 : 빈칸 추가\n",
    "    katok.append(None)\n",
    "    kLen = len(katok) # 선형 리스트의 길이를 파악!\n",
    "    # 2단계 : 마지막 칸에 데이터 입력\n",
    "    katok[kLen-1] = friend\n",
    "\n",
    "def insert_data(position, friend) :\n",
    "    # 1단계 : 빈칸 추가\n",
    "    katok.append(None)\n",
    "    kLen = len(katok)\n",
    "    # 2단계 : 마지막 친구부터, 삽입할 위치까지 한칸씩 뒤로 이동\n",
    "    for i in range(kLen-1, position, -1) : # 어려움!!!!\n",
    "        katok[i] = katok[i-1]\n",
    "        katok[i-1] = None\n",
    "    # 3단계 : 위치에 친구 입력\n",
    "    katok[position] = friend\n",
    "\n",
    "def delete_data(position) :\n",
    "    # 1단계 : 데이터 삭제\n",
    "    katok[position] = None\n",
    "    kLen = len(katok)\n",
    "    # 2단계 : 한칸씩 앞으로\n",
    "    for i in range(position+1, kLen, 1) : # 어려움!\n",
    "        katok[i-1] = katok[i]\n",
    "        katok[i] = None\n",
    "    # 3단계 : 마지막 칸을 제거\n",
    "    del(katok[kLen-1])\n",
    "\n",
    "## 변수\n",
    "katok = []\n",
    "\n",
    "## 메인\n",
    "add_data('다현')\n",
    "add_data('정연')\n",
    "add_data('쯔위')\n",
    "add_data('사나')\n",
    "add_data('지효')\n",
    "print(katok)\n",
    "add_data('모모')\n",
    "print(katok)\n",
    "\n",
    "insert_data(3, '미나')\n",
    "print(katok)\n",
    "\n",
    "delete_data(4)\n",
    "print(katok)\n",
    "\n"
   ]
  },
  {
   "cell_type": "code",
   "execution_count": 24,
   "metadata": {},
   "outputs": [
    {
     "name": "stdout",
     "output_type": "stream",
     "text": [
      "['다현', '정연', '쯔위', '사나', '지효']\n",
      "['다현', '정연', '쯔위', '사나', '지효', '모모']\n",
      "['다현', '정연', '쯔위', '사나', '지효', '모모']\n"
     ]
    }
   ],
   "source": [
    "#전역 변수 선언 부분\n",
    "katok = []\n",
    "add_data('다현')\n",
    "add_data('정연')\n",
    "add_data('쯔위')\n",
    "add_data('사나')\n",
    "add_data('지효')\n",
    "print(katok)\n",
    "add_data('모모')\n",
    "print(katok)\n",
    "select = -1 #1:추가, 2:삽입, 3:삭제, 4:종료\n",
    "\n",
    "\n",
    "#메인 코드 부분 \n",
    "if __name__ == \"__main__\" :\n",
    "    \n",
    "    while (select != 4):\n",
    "        select = int(input(\"선택하세요(1:추가, 2:삽입, 3:삭제, 4:종료)-->\"))\n",
    "\n",
    "        if (select == 1):\n",
    "            data = input(\"추가할 데이터 --> \")\n",
    "            add_data(data)\n",
    "            print(katok)\n",
    "        \n",
    "        elif (select == 2):\n",
    "            pos = int(input(\"삽입할 위치--> \"))\n",
    "            data = input(\"추가할 데이터 --> \")\n",
    "            insert_data(pos, data)\n",
    "            print(katok)\n",
    "        \n",
    "        elif (select == 3):\n",
    "            pos = int(input(\"삭제할 위치--> \"))\n",
    "            delete_data(pos)\n",
    "            print(katok)\n",
    "        \n",
    "        elif (select == 4):\n",
    "            print(katok)\n",
    "            exit\n",
    "\n",
    "        else:\n",
    "            print(\"1~4 중 하나를 입력하세요.\")\n",
    "            continue"
   ]
  },
  {
   "cell_type": "code",
   "execution_count": null,
   "metadata": {},
   "outputs": [],
   "source": []
  },
  {
   "cell_type": "code",
   "execution_count": null,
   "metadata": {},
   "outputs": [],
   "source": []
  },
  {
   "cell_type": "code",
   "execution_count": null,
   "metadata": {},
   "outputs": [],
   "source": []
  },
  {
   "cell_type": "code",
   "execution_count": null,
   "metadata": {},
   "outputs": [],
   "source": []
  },
  {
   "cell_type": "code",
   "execution_count": null,
   "metadata": {},
   "outputs": [],
   "source": []
  },
  {
   "cell_type": "code",
   "execution_count": null,
   "metadata": {},
   "outputs": [],
   "source": []
  },
  {
   "cell_type": "code",
   "execution_count": null,
   "metadata": {},
   "outputs": [],
   "source": []
  }
 ],
 "metadata": {
  "kernelspec": {
   "display_name": "Python 3",
   "language": "python",
   "name": "python3"
  },
  "language_info": {
   "codemirror_mode": {
    "name": "ipython",
    "version": 3
   },
   "file_extension": ".py",
   "mimetype": "text/x-python",
   "name": "python",
   "nbconvert_exporter": "python",
   "pygments_lexer": "ipython3",
   "version": "3.10.11"
  }
 },
 "nbformat": 4,
 "nbformat_minor": 2
}
