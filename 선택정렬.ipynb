{
 "cells": [
  {
   "cell_type": "code",
   "execution_count": 6,
   "metadata": {},
   "outputs": [
    {
     "name": "stdout",
     "output_type": "stream",
     "text": [
      "3\n",
      "[1, 2, 3, 4, 5]\n"
     ]
    }
   ],
   "source": [
    "# arrray 중에서 최소값을 찾는 함수\n",
    "def find_min_idx(a): #함수 정의\n",
    "    n = len(a) #검색할 리스트의 길이\n",
    "    min_idx = 0 #최소값의 변수 지정\n",
    "    for i in range(1, n):  #여기서 왜 1이냐, 인덱스0번이 이미 Min으로 지정되어 있고 그다음인 인덱스1번이랑 비교를 해서 최소값을 봐야 하기 때문에\n",
    "        if a[i] < a[min_idx]: #여기를 보면 a[i]는 a[1] 이고 a[min_idx]는 a[0]이되어 최초의 비교고 시작된다.\n",
    "            min_idx = i #비교이후에 a[i]가 작으면 min_idx라는 변수에는 i 가 들어간다. 왜 a[i]가 아니고 i나면 바로 윗행에 변수 a[min_idx]에 i가 들어가게 되고 a[1]이 된다. 그리고 a[i]는 a[2]이 디ㅗㄴ다.\n",
    "    return min_idx\n",
    "\n",
    "def sel_sort(a):\n",
    "    result = []\n",
    "    while a: #a 리스트가 살아있는 동안에는 계속 while문이 실행된다.\n",
    "        min_idx = find_min_idx(a) #min_idx에 함수 find_min_dix를 실행한 결과값을 넣고\n",
    "        value = a.pop(min_idx) #value라는 변수에 a 리스트의 가장 작은 값을 뽑아 넣는다.\n",
    "        result.append(value) #result라는 빈리스트에 append하여 작은 수부터 정렬하는 리스트를 새로 만든다.\n",
    "    return result\n",
    "\n",
    "d = [2,4,5,1,3]\n",
    "print(find_min_idx(d))\n",
    "print(sel_sort(d))"
   ]
  },
  {
   "cell_type": "code",
   "execution_count": null,
   "metadata": {},
   "outputs": [],
   "source": [
    "array = [7, 5, 9, 0, 3, 1, 6, 2, 4, 8]\n",
    "\n",
    "\n",
    "def sel_sort_min(a):\n",
    "    for i in range(len(array)):\n",
    "        min_idx = i\n",
    "        for j in range(i + 1, len(array)):\n",
    "            if array[min_idx] > array[j]:\n",
    "                min_idx = j\n",
    "        array[i], array[min_idx] = array[min_idx], array[i]\n",
    "\n",
    "sel_sort_min(array)\n",
    "\n",
    "print(array)\n",
    "#min array와 max array를 교체하는 방법"
   ]
  },
  {
   "cell_type": "code",
   "execution_count": null,
   "metadata": {},
   "outputs": [],
   "source": [
    "def sel_sort_max(a):\n",
    "    for i in range(len(array)):\n",
    "        max_idx = i\n",
    "        for j in range(i + 1, len(array)):\n",
    "            if array[max_idx] < array[j]:\n",
    "                max_idx = j\n",
    "        array[i], array[max_idx] = array[max_idx], array[i]\n",
    "\n",
    "sel_sort_max(array)\n",
    "print(array)"
   ]
  },
  {
   "cell_type": "code",
   "execution_count": null,
   "metadata": {},
   "outputs": [],
   "source": []
  },
  {
   "cell_type": "code",
   "execution_count": null,
   "metadata": {},
   "outputs": [],
   "source": []
  },
  {
   "cell_type": "code",
   "execution_count": null,
   "metadata": {},
   "outputs": [],
   "source": []
  },
  {
   "cell_type": "code",
   "execution_count": null,
   "metadata": {},
   "outputs": [],
   "source": []
  },
  {
   "cell_type": "code",
   "execution_count": null,
   "metadata": {},
   "outputs": [],
   "source": []
  }
 ],
 "metadata": {
  "kernelspec": {
   "display_name": "Python 3",
   "language": "python",
   "name": "python3"
  },
  "language_info": {
   "codemirror_mode": {
    "name": "ipython",
    "version": 3
   },
   "file_extension": ".py",
   "mimetype": "text/x-python",
   "name": "python",
   "nbconvert_exporter": "python",
   "pygments_lexer": "ipython3",
   "version": "3.10.11"
  }
 },
 "nbformat": 4,
 "nbformat_minor": 2
}
